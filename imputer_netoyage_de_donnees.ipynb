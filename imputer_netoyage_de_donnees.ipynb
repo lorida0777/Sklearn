{
 "cells": [
  {
   "cell_type": "code",
   "execution_count": 3,
   "id": "8e246705-0a92-402c-8e1a-83f2ef31132c",
   "metadata": {},
   "outputs": [],
   "source": [
    "import numpy as np\n",
    "import matplotlib.pyplot as plt\n",
    "import pandas as sns\n",
    "import seaborn as sns\n",
    "from sklearn.linear_model import SGDClassifier"
   ]
  },
  {
   "cell_type": "markdown",
   "id": "ca986d39-e2e3-49aa-a427-a2027d8d19cd",
   "metadata": {},
   "source": [
    "# SimpleImputer"
   ]
  },
  {
   "cell_type": "code",
   "execution_count": 6,
   "id": "bc958d9d-1744-44ea-b22f-9e2278f5d47c",
   "metadata": {},
   "outputs": [],
   "source": [
    "from sklearn.impute import SimpleImputer"
   ]
  },
  {
   "cell_type": "code",
   "execution_count": 8,
   "id": "92619187-39db-423f-948e-63e1b3471eaf",
   "metadata": {},
   "outputs": [],
   "source": [
    "X = np.array([\n",
    "    [10,3],\n",
    "    [0,4],\n",
    "    [5,3],\n",
    "    [np.nan, 3]\n",
    "])"
   ]
  },
  {
   "cell_type": "code",
   "execution_count": null,
   "id": "b545b0f5-e1b5-49a3-97e0-edb673e6f802",
   "metadata": {},
   "outputs": [],
   "source": [
    "SimpleImputer(missing_values=np.nan, strategy='mean')"
   ]
  }
 ],
 "metadata": {
  "kernelspec": {
   "display_name": "Python [conda env:base] *",
   "language": "python",
   "name": "conda-base-py"
  },
  "language_info": {
   "codemirror_mode": {
    "name": "ipython",
    "version": 3
   },
   "file_extension": ".py",
   "mimetype": "text/x-python",
   "name": "python",
   "nbconvert_exporter": "python",
   "pygments_lexer": "ipython3",
   "version": "3.12.7"
  }
 },
 "nbformat": 4,
 "nbformat_minor": 5
}
